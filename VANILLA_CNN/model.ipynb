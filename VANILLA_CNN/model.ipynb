{
 "cells": [
  {
   "cell_type": "code",
   "execution_count": 16,
   "metadata": {},
   "outputs": [
    {
     "name": "stdout",
     "output_type": "stream",
     "text": [
      "CUDA is available, using GPU\n",
      "Using device: cuda\n"
     ]
    }
   ],
   "source": [
    "import torch\n",
    "from torchvision import datasets\n",
    "from torch.utils.data import Dataset, DataLoader\n",
    "from torchvision.transforms import ToTensor\n",
    "import torch.nn as nn\n",
    "import pandas as pd\n",
    "import numpy as np\n",
    "from sklearn.model_selection import train_test_split\n",
    "\n",
    "# Check if CUDA is available and print the status\n",
    "if torch.cuda.is_available():\n",
    "    print(\"CUDA is available, using GPU\")\n",
    "    device = torch.device(\"cuda\")\n",
    "else:\n",
    "    print(\"CUDA not available, using CPU\")\n",
    "    device = torch.device(\"cpu\")\n",
    "# Print the device being used\n",
    "print(f\"Using device: {device}\")"
   ]
  },
  {
   "cell_type": "code",
   "execution_count": 17,
   "metadata": {},
   "outputs": [],
   "source": [
    "class CustomDataset(Dataset):\n",
    "    def __init__(self, path, transform):\n",
    "        super().__init__()\n",
    "        self.data = pd.read_csv(path, header='infer').values\n",
    "        self.length = self.data.shape[0]\n",
    "        self.transform = transform\n",
    "    \n",
    "    def __len__(self):\n",
    "        return self.length\n",
    "    \n",
    "    def __getitem__(self, idx):\n",
    "        flatimage = self.data[idx,:-1].astype(np.uint8)\n",
    "        image = self.transform(np.reshape(flatimage, (128, 128, 3)))\n",
    "        label = self.data[idx, 49152]\n",
    "        return image, label\n",
    "\n",
    "dataset = CustomDataset('dataset.csv', ToTensor())\n",
    "train_size = int(0.8 * len(dataset))\n",
    "test_size = len(dataset) - train_size\n",
    "train_dataset, test_dataset = torch.utils.data.random_split(dataset, [train_size, test_size])\n",
    "train_loader = DataLoader(dataset=train_dataset, batch_size=32, shuffle=True)\n",
    "test_loader = DataLoader(dataset=test_dataset, batch_size=32, shuffle=False)"
   ]
  },
  {
   "cell_type": "code",
   "execution_count": 18,
   "metadata": {},
   "outputs": [],
   "source": [
    "class CCNN(nn.Module):\n",
    "    def __init__(self):\n",
    "        super().__init__()\n",
    "        self.features = nn.Sequential(\n",
    "            nn.Conv2d(3, 16, kernel_size=3, stride=1, padding=1),\n",
    "            nn.ReLU(),\n",
    "            nn.MaxPool2d(kernel_size=2, stride=2),\n",
    "            nn.Conv2d(16, 32, kernel_size=3, stride=1, padding=1),\n",
    "            nn.ReLU(),\n",
    "            nn.MaxPool2d(kernel_size=2, stride=2),\n",
    "            nn.Conv2d(32, 64, kernel_size=3, stride=1, padding=1),\n",
    "            nn.ReLU(),\n",
    "            nn.MaxPool2d(kernel_size=2, stride=2),\n",
    "            nn.Conv2d(64, 128, kernel_size=3, stride=1, padding=1),\n",
    "            nn.ReLU(),\n",
    "            nn.MaxPool2d(kernel_size=2, stride=2)\n",
    "        )\n",
    "        self.classifier = nn.Sequential(\n",
    "            nn.Flatten(),\n",
    "            nn.Linear(128 * 8 * 8, 512),\n",
    "            nn.ReLU(),\n",
    "            nn.Linear(512, 21)\n",
    "        )\n",
    "    \n",
    "    def forward(self, x):\n",
    "        x = self.features(x)\n",
    "        x = self.classifier(x)\n",
    "        return x"
   ]
  },
  {
   "cell_type": "code",
   "execution_count": 19,
   "metadata": {},
   "outputs": [],
   "source": [
    "model = CCNN().to(device)\n",
    "loss_fn = nn.CrossEntropyLoss()\n",
    "optimizer = torch.optim.Adam(model.parameters(), lr=0.001)"
   ]
  },
  {
   "cell_type": "code",
   "execution_count": 20,
   "metadata": {},
   "outputs": [],
   "source": [
    "def train_epoch(dataloader, model, loss_fn, optimizer):\n",
    "    model.train()\n",
    "    total_loss = 0\n",
    "    for i, (inputs, labels) in enumerate(dataloader):\n",
    "        inputs, labels = inputs.to(device), labels.to(device)\n",
    "        \n",
    "        optimizer.zero_grad()\n",
    "        outputs = model(inputs)\n",
    "        loss = loss_fn(outputs, labels)\n",
    "        loss.backward()\n",
    "        optimizer.step()\n",
    "        \n",
    "        total_loss += loss.item()\n",
    "        \n",
    "    return total_loss / len(dataloader)"
   ]
  },
  {
   "cell_type": "code",
   "execution_count": 21,
   "metadata": {},
   "outputs": [
    {
     "name": "stdout",
     "output_type": "stream",
     "text": [
      "Epoch 1/50, Loss: 2.9553\n",
      "Epoch 2/50, Loss: 2.3559\n",
      "Epoch 3/50, Loss: 1.9610\n",
      "Epoch 4/50, Loss: 1.6503\n",
      "Epoch 5/50, Loss: 1.4205\n",
      "Epoch 6/50, Loss: 1.1418\n",
      "Epoch 7/50, Loss: 0.9121\n",
      "Epoch 8/50, Loss: 0.6593\n",
      "Epoch 9/50, Loss: 0.4879\n",
      "Epoch 10/50, Loss: 0.3258\n",
      "Epoch 11/50, Loss: 0.1718\n",
      "Epoch 12/50, Loss: 0.1487\n",
      "Epoch 13/50, Loss: 0.1766\n",
      "Epoch 14/50, Loss: 0.1624\n",
      "Epoch 15/50, Loss: 0.1280\n",
      "Epoch 16/50, Loss: 0.0823\n",
      "Epoch 17/50, Loss: 0.0202\n",
      "Epoch 18/50, Loss: 0.0144\n",
      "Epoch 19/50, Loss: 0.0189\n",
      "Epoch 20/50, Loss: 0.0678\n",
      "Epoch 21/50, Loss: 0.1788\n",
      "Epoch 22/50, Loss: 0.1019\n",
      "Epoch 23/50, Loss: 0.0706\n",
      "Epoch 24/50, Loss: 0.0206\n",
      "Epoch 25/50, Loss: 0.0671\n",
      "Epoch 26/50, Loss: 0.0422\n",
      "Epoch 27/50, Loss: 0.2286\n",
      "Epoch 28/50, Loss: 0.0857\n",
      "Epoch 29/50, Loss: 0.0241\n",
      "Epoch 30/50, Loss: 0.0087\n",
      "Epoch 31/50, Loss: 0.0024\n",
      "Epoch 32/50, Loss: 0.0012\n",
      "Epoch 33/50, Loss: 0.0008\n",
      "Epoch 34/50, Loss: 0.0006\n",
      "Epoch 35/50, Loss: 0.0005\n",
      "Epoch 36/50, Loss: 0.0005\n",
      "Epoch 37/50, Loss: 0.0004\n",
      "Epoch 38/50, Loss: 0.0003\n",
      "Epoch 39/50, Loss: 0.0003\n",
      "Epoch 40/50, Loss: 0.0003\n",
      "Epoch 41/50, Loss: 0.0002\n",
      "Epoch 42/50, Loss: 0.0002\n",
      "Epoch 43/50, Loss: 0.0002\n",
      "Epoch 44/50, Loss: 0.0002\n",
      "Epoch 45/50, Loss: 0.0002\n",
      "Epoch 46/50, Loss: 0.0002\n",
      "Epoch 47/50, Loss: 0.0001\n",
      "Epoch 48/50, Loss: 0.0001\n",
      "Epoch 49/50, Loss: 0.0001\n",
      "Epoch 50/50, Loss: 0.0001\n"
     ]
    }
   ],
   "source": [
    "n_epochs = 50\n",
    "for epoch in range(n_epochs):\n",
    "    loss = train_epoch(train_loader, model, loss_fn, optimizer)\n",
    "    print(f\"Epoch {epoch+1}/{n_epochs}, Loss: {loss:.4f}\")"
   ]
  },
  {
   "cell_type": "code",
   "execution_count": 22,
   "metadata": {},
   "outputs": [
    {
     "name": "stdout",
     "output_type": "stream",
     "text": [
      "Test Loss: 3.2940, Test Accuracy: 64.52%\n"
     ]
    }
   ],
   "source": [
    "# Add evaluation function\n",
    "def evaluate(dataloader, model, loss_fn):\n",
    "    model.eval()\n",
    "    total_loss = 0\n",
    "    correct = 0\n",
    "    total = 0\n",
    "    with torch.no_grad():\n",
    "        for inputs, labels in dataloader:\n",
    "            inputs, labels = inputs.to(device), labels.to(device)\n",
    "            outputs = model(inputs)\n",
    "            loss = loss_fn(outputs, labels)\n",
    "            total_loss += loss.item()\n",
    "            _, predicted = torch.max(outputs.data, 1)\n",
    "            total += labels.size(0)\n",
    "            correct += (predicted == labels).sum().item()\n",
    "    \n",
    "    accuracy = 100 * correct / total\n",
    "    avg_loss = total_loss / len(dataloader)\n",
    "    return avg_loss, accuracy\n",
    "\n",
    "# Evaluate the model after training\n",
    "test_loss, test_accuracy = evaluate(test_loader, model, loss_fn)\n",
    "print(f\"Test Loss: {test_loss:.4f}, Test Accuracy: {test_accuracy:.2f}%\")"
   ]
  }
 ],
 "metadata": {
  "kernelspec": {
   "display_name": "Python 3",
   "language": "python",
   "name": "python3"
  },
  "language_info": {
   "codemirror_mode": {
    "name": "ipython",
    "version": 3
   },
   "file_extension": ".py",
   "mimetype": "text/x-python",
   "name": "python",
   "nbconvert_exporter": "python",
   "pygments_lexer": "ipython3",
   "version": "3.12.3"
  }
 },
 "nbformat": 4,
 "nbformat_minor": 2
}
